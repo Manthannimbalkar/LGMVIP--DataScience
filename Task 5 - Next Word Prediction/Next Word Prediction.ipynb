{
 "cells": [
  {
   "cell_type": "markdown",
   "id": "4ed5ea00",
   "metadata": {},
   "source": [
    "# Importing Data"
   ]
  },
  {
   "cell_type": "code",
   "execution_count": 1,
   "id": "f29080bc",
   "metadata": {},
   "outputs": [
    {
     "name": "stdout",
     "output_type": "stream",
     "text": [
      "\f",
      "Business Adventures\n",
      "Twelve Classic Tales from the World\n"
     ]
    }
   ],
   "source": [
    "data = open(\"BUISNESS ADVENTURES.txt\", \"r\", encoding= 'utf8').read()\n",
    "print (data[:56])"
   ]
  },
  {
   "cell_type": "code",
   "execution_count": 2,
   "id": "495cb90e",
   "metadata": {},
   "outputs": [
    {
     "name": "stdout",
     "output_type": "stream",
     "text": [
      "corpus length: 889256\n"
     ]
    }
   ],
   "source": [
    "text = open(\"BUISNESS ADVENTURES.txt\", 'r', encoding='utf-8').read().lower()\n",
    "print('corpus length:', len(text))"
   ]
  },
  {
   "cell_type": "code",
   "execution_count": 3,
   "id": "56c66814",
   "metadata": {},
   "outputs": [],
   "source": [
    "import string"
   ]
  },
  {
   "cell_type": "code",
   "execution_count": 4,
   "id": "3e97c8b4",
   "metadata": {},
   "outputs": [],
   "source": [
    "def clean_doc(doc):\n",
    "    # replace '--' with a space ' '\n",
    "    doc = doc.replace('--', ' ')\n",
    "    # split into tokens by white space\n",
    "    tokens = doc.split()\n",
    "    # remove punctuation from each token\n",
    "    tokens = [' ' if w in string.punctuation else w for w in tokens]\n",
    "    # remove remaining tokens that are not alphabetic\n",
    "    tokens = [word for word in tokens if word.isalpha()]\n",
    "    # make lower case\n",
    "    tokens = [word.lower() for word in tokens]\n",
    "    return tokens\n",
    " \n",
    "tokens = clean_doc(text)\n",
    "\n",
    "number_of_unique_tokens = len(set(tokens))\n"
   ]
  },
  {
   "cell_type": "code",
   "execution_count": 5,
   "id": "d0ce9672",
   "metadata": {},
   "outputs": [
    {
     "name": "stdout",
     "output_type": "stream",
     "text": [
      "Total Tokens: 124437\n",
      "Unique Tokens: 10353\n",
      "These are the first 200 tokens: ['business', 'adventures', 'twelve', 'classic', 'tales', 'from', 'the', 'world', 'of', 'wall', 'street', 'john', 'brooks', 'contents', 'the', 'fluctuation', 'the', 'little', 'crash', 'in', 'the', 'fate', 'of', 'the', 'edsel', 'a', 'cautionary', 'tale', 'the', 'federal', 'income', 'tax', 'its', 'history', 'and', 'peculiarities', 'a', 'reasonable', 'amount', 'of', 'time', 'insiders', 'at', 'texas', 'gulf', 'sulphur', 'xerox', 'xerox', 'xerox', 'xerox', 'making', 'the', 'customers', 'whole', 'the', 'death', 'of', 'a', 'president', 'the', 'impacted', 'philosophers', 'at', 'ge', 'the', 'last', 'great', 'corner', 'a', 'company', 'called', 'piggly', 'wiggly', 'a', 'second', 'sort', 'of', 'life', 'david', 'businessman', 'stockholder', 'season', 'annual', 'meetings', 'and', 'corporate', 'power', 'one', 'free', 'bite', 'a', 'his', 'and', 'his', 'job', 'in', 'defense', 'of', 'sterling', 'the', 'the', 'and', 'the', 'dollar', 'index', 'the', 'fluctuation', 'the', 'stock', 'daytime', 'adventure', 'serial', 'of', 'the', 'not', 'be', 'the', 'stock', 'market', 'if', 'it', 'did', 'not', 'have', 'its', 'ups', 'and', 'any', 'sitter', 'with', 'a', 'taste', 'for', 'wall', 'street', 'lore', 'has', 'heard', 'of', 'the', 'retort', 'that', 'morgan', 'the', 'elder', 'is', 'supposed', 'to', 'have', 'made', 'to', 'a', 'naïve', 'acquaintance', 'who', 'had', 'ventured', 'to', 'ask', 'the', 'great', 'man', 'what', 'the', 'market', 'was', 'going', 'to', 'will', 'replied', 'morgan', 'and', 'it', 'has', 'many', 'other', 'distinctive', 'apart', 'from', 'the', 'economic', 'advantages', 'and', 'disadvantages', 'of', 'stock', 'advantage', 'that', 'they', 'provide', 'a', 'free', 'flow', 'of', 'capital', 'to', 'finance', 'industrial', 'for', 'and']\n"
     ]
    }
   ],
   "source": [
    "print('Total Tokens: %d' % len(tokens))\n",
    "print('Unique Tokens: %d' % number_of_unique_tokens)\n",
    "print('These are the first 200 tokens: %s' % tokens[:200])"
   ]
  },
  {
   "cell_type": "code",
   "execution_count": 6,
   "id": "72df754b",
   "metadata": {},
   "outputs": [],
   "source": [
    "sequence_length = 2\n",
    "\n",
    "# organize into sequences of tokens of input words plus one output word\n",
    "length = sequence_length + 1\n",
    "sequences = list()\n",
    "for i in range(length, len(tokens)):\n",
    "    # select sequence of tokens\n",
    "    seq = tokens[i-length:i]\n",
    "    # convert into a line\n",
    "    line = ' '.join(seq)\n",
    "    # store\n",
    "    sequences.append(line)"
   ]
  },
  {
   "cell_type": "code",
   "execution_count": 7,
   "id": "16141a7a",
   "metadata": {},
   "outputs": [
    {
     "name": "stdout",
     "output_type": "stream",
     "text": [
      "Total Sequences: 124434\n",
      "This is the first sequence: business adventures twelve\n"
     ]
    }
   ],
   "source": [
    "print ('Total Sequences: %d' % len(sequences))\n",
    "print ('This is the first sequence: {0}'.format(sequences[0]))"
   ]
  },
  {
   "cell_type": "markdown",
   "id": "40dd1d39",
   "metadata": {},
   "source": [
    "# Basic Liabraries"
   ]
  },
  {
   "cell_type": "code",
   "execution_count": 8,
   "id": "6b76de99",
   "metadata": {},
   "outputs": [],
   "source": [
    "import numpy as np\n",
    "from keras.preprocessing.text import Tokenizer\n",
    "from keras.utils import to_categorical\n",
    "from keras.models import Sequential\n",
    "from keras.layers import Dense\n",
    "from keras.layers import LSTM\n",
    "from keras.layers import Embedding"
   ]
  },
  {
   "cell_type": "markdown",
   "id": "75378d6d",
   "metadata": {},
   "source": [
    "# Applying LSTM Model"
   ]
  },
  {
   "cell_type": "code",
   "execution_count": 9,
   "id": "4e06e785",
   "metadata": {},
   "outputs": [],
   "source": [
    "tokenizer = Tokenizer()\n",
    "tokenizer.fit_on_texts(sequences)\n",
    "sequences = tokenizer.texts_to_sequences(sequences)\n",
    "# vocab_size = len(tokenizer.word_index) + 1\n",
    "vocab_size = number_of_unique_tokens + 1\n",
    " \n",
    "sequences0 = np.array(sequences)\n",
    "X, y = sequences0[:,:-1], sequences0[:,-1]\n",
    "y = to_categorical(y, num_classes=vocab_size)"
   ]
  },
  {
   "cell_type": "code",
   "execution_count": 10,
   "id": "00436b2f",
   "metadata": {},
   "outputs": [
    {
     "name": "stdout",
     "output_type": "stream",
     "text": [
      "Model: \"sequential\"\n",
      "_________________________________________________________________\n",
      " Layer (type)                Output Shape              Param #   \n",
      "=================================================================\n",
      " embedding (Embedding)       (None, 2, 2)              20708     \n",
      "                                                                 \n",
      " lstm (LSTM)                 (None, 2, 100)            41200     \n",
      "                                                                 \n",
      " lstm_1 (LSTM)               (None, 100)               80400     \n",
      "                                                                 \n",
      " dense (Dense)               (None, 100)               10100     \n",
      "                                                                 \n",
      " dense_1 (Dense)             (None, 10354)             1045754   \n",
      "                                                                 \n",
      "=================================================================\n",
      "Total params: 1,198,162\n",
      "Trainable params: 1,198,162\n",
      "Non-trainable params: 0\n",
      "_________________________________________________________________\n",
      "None\n"
     ]
    }
   ],
   "source": [
    "dimensions_to_represent_word = 100\n",
    " \n",
    "model = Sequential()\n",
    "model.add(Embedding(vocab_size, sequence_length, input_length=sequence_length))\n",
    "# We will use a two LSTM hidden layers with 100 memory cells each. \n",
    "# More memory cells and a deeper network may achieve better results.\n",
    "model.add(LSTM(100, return_sequences=True))\n",
    "model.add(LSTM(100))\n",
    "model.add(Dense(100, activation='relu'))\n",
    "model.add(Dense(vocab_size, activation='softmax'))\n",
    "print(model.summary())\n",
    "\n",
    "model.compile(loss='categorical_crossentropy', optimizer='adam', metrics=['accuracy'])"
   ]
  },
  {
   "cell_type": "code",
   "execution_count": 11,
   "id": "482beb74",
   "metadata": {
    "scrolled": false
   },
   "outputs": [
    {
     "name": "stdout",
     "output_type": "stream",
     "text": [
      "Epoch 1/100\n",
      "620/620 [==============================] - 47s 62ms/step - loss: 6.7833 - accuracy: 0.0816\n",
      "Epoch 2/100\n",
      "620/620 [==============================] - 44s 71ms/step - loss: 6.4267 - accuracy: 0.0817\n",
      "Epoch 3/100\n",
      "620/620 [==============================] - 42s 68ms/step - loss: 6.3448 - accuracy: 0.0883\n",
      "Epoch 4/100\n",
      "620/620 [==============================] - 40s 64ms/step - loss: 6.2129 - accuracy: 0.1080\n",
      "Epoch 5/100\n",
      "620/620 [==============================] - 36s 59ms/step - loss: 6.0691 - accuracy: 0.1143\n",
      "Epoch 6/100\n",
      "620/620 [==============================] - 37s 60ms/step - loss: 5.9731 - accuracy: 0.1181\n",
      "Epoch 7/100\n",
      "620/620 [==============================] - 37s 59ms/step - loss: 5.8925 - accuracy: 0.1202\n",
      "Epoch 8/100\n",
      "620/620 [==============================] - 36s 58ms/step - loss: 5.8223 - accuracy: 0.1215\n",
      "Epoch 9/100\n",
      "620/620 [==============================] - 37s 59ms/step - loss: 5.7613 - accuracy: 0.1236\n",
      "Epoch 10/100\n",
      "620/620 [==============================] - 41s 66ms/step - loss: 5.7101 - accuracy: 0.1276\n",
      "Epoch 11/100\n",
      "620/620 [==============================] - 39s 63ms/step - loss: 5.6630 - accuracy: 0.1299\n",
      "Epoch 12/100\n",
      "620/620 [==============================] - 40s 65ms/step - loss: 5.6197 - accuracy: 0.1318\n",
      "Epoch 13/100\n",
      "620/620 [==============================] - 36s 58ms/step - loss: 5.5765 - accuracy: 0.1334\n",
      "Epoch 14/100\n",
      "620/620 [==============================] - 38s 61ms/step - loss: 5.5343 - accuracy: 0.1353\n",
      "Epoch 15/100\n",
      "620/620 [==============================] - 37s 60ms/step - loss: 5.4875 - accuracy: 0.1375\n",
      "Epoch 16/100\n",
      "620/620 [==============================] - 37s 60ms/step - loss: 5.4409 - accuracy: 0.1400\n",
      "Epoch 17/100\n",
      "620/620 [==============================] - 37s 60ms/step - loss: 5.3938 - accuracy: 0.1431\n",
      "Epoch 18/100\n",
      "620/620 [==============================] - 38s 61ms/step - loss: 5.3429 - accuracy: 0.1452\n",
      "Epoch 19/100\n",
      "620/620 [==============================] - 44s 71ms/step - loss: 5.2885 - accuracy: 0.1477\n",
      "Epoch 20/100\n",
      "620/620 [==============================] - 39s 63ms/step - loss: 5.2361 - accuracy: 0.1489\n",
      "Epoch 21/100\n",
      "620/620 [==============================] - 35s 57ms/step - loss: 5.1830 - accuracy: 0.1516\n",
      "Epoch 22/100\n",
      "620/620 [==============================] - 39s 63ms/step - loss: 5.1317 - accuracy: 0.1526\n",
      "Epoch 23/100\n",
      "620/620 [==============================] - 39s 62ms/step - loss: 5.0800 - accuracy: 0.1544\n",
      "Epoch 24/100\n",
      "620/620 [==============================] - 37s 60ms/step - loss: 5.0326 - accuracy: 0.1556\n",
      "Epoch 25/100\n",
      "620/620 [==============================] - 39s 63ms/step - loss: 4.9872 - accuracy: 0.1570\n",
      "Epoch 26/100\n",
      "620/620 [==============================] - 40s 64ms/step - loss: 4.9441 - accuracy: 0.1586\n",
      "Epoch 27/100\n",
      "620/620 [==============================] - 38s 62ms/step - loss: 4.9040 - accuracy: 0.1600\n",
      "Epoch 28/100\n",
      "620/620 [==============================] - 39s 64ms/step - loss: 4.8691 - accuracy: 0.1608\n",
      "Epoch 29/100\n",
      "620/620 [==============================] - 38s 61ms/step - loss: 4.8333 - accuracy: 0.1622\n",
      "Epoch 30/100\n",
      "620/620 [==============================] - 39s 62ms/step - loss: 4.7995 - accuracy: 0.1632\n",
      "Epoch 31/100\n",
      "620/620 [==============================] - 41s 65ms/step - loss: 4.7694 - accuracy: 0.1639\n",
      "Epoch 32/100\n",
      "620/620 [==============================] - 43s 70ms/step - loss: 4.7408 - accuracy: 0.1656\n",
      "Epoch 33/100\n",
      "620/620 [==============================] - 42s 68ms/step - loss: 4.7155 - accuracy: 0.1663\n",
      "Epoch 34/100\n",
      "620/620 [==============================] - 39s 63ms/step - loss: 4.6910 - accuracy: 0.1667\n",
      "Epoch 35/100\n",
      "620/620 [==============================] - 39s 63ms/step - loss: 4.6664 - accuracy: 0.1675\n",
      "Epoch 36/100\n",
      "620/620 [==============================] - 41s 66ms/step - loss: 4.6456 - accuracy: 0.1686\n",
      "Epoch 37/100\n",
      "620/620 [==============================] - 39s 63ms/step - loss: 4.6265 - accuracy: 0.1695\n",
      "Epoch 38/100\n",
      "620/620 [==============================] - 40s 64ms/step - loss: 4.6056 - accuracy: 0.1701\n",
      "Epoch 39/100\n",
      "620/620 [==============================] - 39s 63ms/step - loss: 4.5873 - accuracy: 0.1703\n",
      "Epoch 40/100\n",
      "620/620 [==============================] - 39s 63ms/step - loss: 4.5690 - accuracy: 0.1712\n",
      "Epoch 41/100\n",
      "620/620 [==============================] - 39s 63ms/step - loss: 4.5520 - accuracy: 0.1722\n",
      "Epoch 42/100\n",
      "620/620 [==============================] - 38s 62ms/step - loss: 4.5379 - accuracy: 0.1720\n",
      "Epoch 43/100\n",
      "620/620 [==============================] - 38s 62ms/step - loss: 4.5210 - accuracy: 0.1726\n",
      "Epoch 44/100\n",
      "620/620 [==============================] - 33s 54ms/step - loss: 4.5082 - accuracy: 0.1740\n",
      "Epoch 45/100\n",
      "620/620 [==============================] - 34s 55ms/step - loss: 4.4950 - accuracy: 0.1739\n",
      "Epoch 46/100\n",
      "620/620 [==============================] - 34s 55ms/step - loss: 4.4820 - accuracy: 0.1751\n",
      "Epoch 47/100\n",
      "620/620 [==============================] - 37s 59ms/step - loss: 4.4671 - accuracy: 0.1755\n",
      "Epoch 48/100\n",
      "620/620 [==============================] - 38s 61ms/step - loss: 4.4555 - accuracy: 0.1760\n",
      "Epoch 49/100\n",
      "620/620 [==============================] - 39s 62ms/step - loss: 4.4451 - accuracy: 0.1762\n",
      "Epoch 50/100\n",
      "620/620 [==============================] - 39s 62ms/step - loss: 4.4319 - accuracy: 0.1771\n",
      "Epoch 51/100\n",
      "620/620 [==============================] - 42s 68ms/step - loss: 4.4219 - accuracy: 0.1773\n",
      "Epoch 52/100\n",
      "620/620 [==============================] - 41s 66ms/step - loss: 4.4126 - accuracy: 0.1774\n",
      "Epoch 53/100\n",
      "620/620 [==============================] - 37s 60ms/step - loss: 4.4009 - accuracy: 0.1782\n",
      "Epoch 54/100\n",
      "620/620 [==============================] - 36s 59ms/step - loss: 4.3920 - accuracy: 0.1787\n",
      "Epoch 55/100\n",
      "620/620 [==============================] - 40s 65ms/step - loss: 4.3798 - accuracy: 0.1789\n",
      "Epoch 56/100\n",
      "620/620 [==============================] - 39s 62ms/step - loss: 4.3700 - accuracy: 0.1800\n",
      "Epoch 57/100\n",
      "620/620 [==============================] - 38s 61ms/step - loss: 4.3617 - accuracy: 0.1801\n",
      "Epoch 58/100\n",
      "620/620 [==============================] - 38s 62ms/step - loss: 4.3525 - accuracy: 0.1811\n",
      "Epoch 59/100\n",
      "620/620 [==============================] - 38s 61ms/step - loss: 4.3440 - accuracy: 0.1809\n",
      "Epoch 60/100\n",
      "620/620 [==============================] - 38s 61ms/step - loss: 4.3346 - accuracy: 0.1811\n",
      "Epoch 61/100\n",
      "620/620 [==============================] - 44s 70ms/step - loss: 4.3260 - accuracy: 0.1823\n",
      "Epoch 62/100\n",
      "620/620 [==============================] - 46s 74ms/step - loss: 4.3163 - accuracy: 0.1820\n",
      "Epoch 63/100\n",
      "620/620 [==============================] - 42s 67ms/step - loss: 4.3097 - accuracy: 0.1822\n",
      "Epoch 64/100\n",
      "620/620 [==============================] - 41s 65ms/step - loss: 4.3022 - accuracy: 0.1832\n",
      "Epoch 65/100\n",
      "620/620 [==============================] - 38s 61ms/step - loss: 4.2938 - accuracy: 0.1835\n",
      "Epoch 66/100\n",
      "620/620 [==============================] - 38s 61ms/step - loss: 4.2842 - accuracy: 0.1841\n",
      "Epoch 67/100\n",
      "620/620 [==============================] - 41s 66ms/step - loss: 4.2782 - accuracy: 0.1840\n",
      "Epoch 68/100\n",
      "620/620 [==============================] - 37s 59ms/step - loss: 4.2723 - accuracy: 0.1853\n",
      "Epoch 69/100\n",
      "620/620 [==============================] - 38s 60ms/step - loss: 4.2636 - accuracy: 0.1851\n",
      "Epoch 70/100\n",
      "620/620 [==============================] - 38s 61ms/step - loss: 4.2580 - accuracy: 0.1857\n",
      "Epoch 71/100\n",
      "620/620 [==============================] - 37s 60ms/step - loss: 4.2498 - accuracy: 0.1862\n",
      "Epoch 72/100\n",
      "620/620 [==============================] - 38s 62ms/step - loss: 4.2438 - accuracy: 0.1861\n",
      "Epoch 73/100\n",
      "620/620 [==============================] - 36s 59ms/step - loss: 4.2370 - accuracy: 0.1862\n",
      "Epoch 74/100\n",
      "620/620 [==============================] - 38s 62ms/step - loss: 4.2296 - accuracy: 0.1876\n",
      "Epoch 75/100\n",
      "620/620 [==============================] - 39s 62ms/step - loss: 4.2223 - accuracy: 0.1881\n",
      "Epoch 76/100\n",
      "620/620 [==============================] - 35s 57ms/step - loss: 4.2173 - accuracy: 0.1884\n",
      "Epoch 77/100\n",
      "620/620 [==============================] - 34s 55ms/step - loss: 4.2102 - accuracy: 0.1887\n",
      "Epoch 78/100\n",
      "620/620 [==============================] - 33s 53ms/step - loss: 4.2053 - accuracy: 0.1885\n",
      "Epoch 79/100\n"
     ]
    },
    {
     "name": "stdout",
     "output_type": "stream",
     "text": [
      "620/620 [==============================] - 33s 53ms/step - loss: 4.1988 - accuracy: 0.1893\n",
      "Epoch 80/100\n",
      "620/620 [==============================] - 32s 52ms/step - loss: 4.1932 - accuracy: 0.1893\n",
      "Epoch 81/100\n",
      "620/620 [==============================] - 32s 52ms/step - loss: 4.1874 - accuracy: 0.1903\n",
      "Epoch 82/100\n",
      "620/620 [==============================] - 33s 53ms/step - loss: 4.1818 - accuracy: 0.1904\n",
      "Epoch 83/100\n",
      "620/620 [==============================] - 35s 56ms/step - loss: 4.1760 - accuracy: 0.1908\n",
      "Epoch 84/100\n",
      "620/620 [==============================] - 33s 52ms/step - loss: 4.1701 - accuracy: 0.1908\n",
      "Epoch 85/100\n",
      "620/620 [==============================] - 30s 48ms/step - loss: 4.1645 - accuracy: 0.1918\n",
      "Epoch 86/100\n",
      "620/620 [==============================] - 32s 51ms/step - loss: 4.1604 - accuracy: 0.1908\n",
      "Epoch 87/100\n",
      "620/620 [==============================] - 33s 53ms/step - loss: 4.1559 - accuracy: 0.1922\n",
      "Epoch 88/100\n",
      "620/620 [==============================] - 33s 53ms/step - loss: 4.1497 - accuracy: 0.1917\n",
      "Epoch 89/100\n",
      "620/620 [==============================] - 34s 54ms/step - loss: 4.1444 - accuracy: 0.1933\n",
      "Epoch 90/100\n",
      "620/620 [==============================] - 33s 53ms/step - loss: 4.1402 - accuracy: 0.1928\n",
      "Epoch 91/100\n",
      "620/620 [==============================] - 32s 52ms/step - loss: 4.1341 - accuracy: 0.1933\n",
      "Epoch 92/100\n",
      "620/620 [==============================] - 33s 54ms/step - loss: 4.1291 - accuracy: 0.1942\n",
      "Epoch 93/100\n",
      "620/620 [==============================] - 34s 56ms/step - loss: 4.1246 - accuracy: 0.1937\n",
      "Epoch 94/100\n",
      "620/620 [==============================] - 35s 57ms/step - loss: 4.1195 - accuracy: 0.1950\n",
      "Epoch 95/100\n",
      "620/620 [==============================] - 34s 54ms/step - loss: 4.1133 - accuracy: 0.1947\n",
      "Epoch 96/100\n",
      "620/620 [==============================] - 34s 55ms/step - loss: 4.1106 - accuracy: 0.1950\n",
      "Epoch 97/100\n",
      "620/620 [==============================] - 34s 55ms/step - loss: 4.1053 - accuracy: 0.1949\n",
      "Epoch 98/100\n",
      "620/620 [==============================] - 33s 53ms/step - loss: 4.1007 - accuracy: 0.1954\n",
      "Epoch 99/100\n",
      "620/620 [==============================] - 35s 57ms/step - loss: 4.0961 - accuracy: 0.1963\n",
      "Epoch 100/100\n",
      "620/620 [==============================] - 33s 54ms/step - loss: 4.0917 - accuracy: 0.1969\n"
     ]
    },
    {
     "data": {
      "text/plain": [
       "<keras.callbacks.History at 0x1f49c5478e0>"
      ]
     },
     "execution_count": 11,
     "metadata": {},
     "output_type": "execute_result"
    }
   ],
   "source": [
    "model.fit(X, y, batch_size=201, epochs=100)"
   ]
  },
  {
   "cell_type": "code",
   "execution_count": 12,
   "id": "25f35bed",
   "metadata": {},
   "outputs": [
    {
     "name": "stdout",
     "output_type": "stream",
     "text": [
      "(124434, 2)\n",
      "1/1 [==============================] - 2s 2s/step\n",
      "(1, 10354)\n",
      "[[2.0884431e-18 1.4248555e-02 5.7897653e-02 ... 0.0000000e+00\n",
      "  0.0000000e+00 1.3772051e-18]]\n"
     ]
    }
   ],
   "source": [
    "print (X.shape)\n",
    "prediction = model.predict(X[0].reshape(1,sequence_length))\n",
    "print (prediction.shape)\n",
    "print (prediction)"
   ]
  },
  {
   "cell_type": "code",
   "execution_count": 13,
   "id": "86388435",
   "metadata": {},
   "outputs": [],
   "source": [
    "test = ['thank you',\n",
    "'welcome to',\n",
    "'when there',\n",
    "'more than',\n",
    "'it cannot',\n",
    "'is that',\n",
    "'although this',\n",
    "'do you',\n",
    "'I was',\n",
    "'the only',\n",
    "'a great',\n",
    "'thats very']"
   ]
  },
  {
   "cell_type": "code",
   "execution_count": 14,
   "id": "7d9a8ef4",
   "metadata": {},
   "outputs": [
    {
     "name": "stdout",
     "output_type": "stream",
     "text": [
      "1/1 [==============================] - 0s 21ms/step\n",
      "thank you -> have\n",
      "1/1 [==============================] - 2s 2s/step\n",
      "welcome to -> agreement\n",
      "1/1 [==============================] - 0s 20ms/step\n",
      "when there -> was\n",
      "1/1 [==============================] - 0s 24ms/step\n",
      "more than -> the\n",
      "1/1 [==============================] - 0s 21ms/step\n",
      "it cannot -> be\n",
      "1/1 [==============================] - 0s 22ms/step\n",
      "is that -> the\n",
      "1/1 [==============================] - 0s 19ms/step\n",
      "although this -> unexpectedly\n",
      "1/1 [==============================] - 0s 20ms/step\n",
      "do you -> desire\n",
      "1/1 [==============================] - 0s 21ms/step\n",
      "I was -> the\n",
      "1/1 [==============================] - 0s 22ms/step\n",
      "the only -> exchange\n",
      "1/1 [==============================] - 0s 31ms/step\n",
      "a great -> appeal\n",
      "1/1 [==============================] - 0s 31ms/step\n",
      "thats very -> permanent\n"
     ]
    }
   ],
   "source": [
    "for t in test:\n",
    "    example = tokenizer.texts_to_sequences([t])\n",
    "    prediction = model.predict(np.array(example))\n",
    "    predicted_word = np.argmax(prediction)\n",
    "    reverse_word_map = dict(map(reversed, tokenizer.word_index.items()))\n",
    "    print (\"{0} -> {1}\".format(t, reverse_word_map[predicted_word]))"
   ]
  },
  {
   "cell_type": "code",
   "execution_count": null,
   "id": "6acbc599",
   "metadata": {},
   "outputs": [],
   "source": []
  }
 ],
 "metadata": {
  "kernelspec": {
   "display_name": "Python 3 (ipykernel)",
   "language": "python",
   "name": "python3"
  },
  "language_info": {
   "codemirror_mode": {
    "name": "ipython",
    "version": 3
   },
   "file_extension": ".py",
   "mimetype": "text/x-python",
   "name": "python",
   "nbconvert_exporter": "python",
   "pygments_lexer": "ipython3",
   "version": "3.9.12"
  }
 },
 "nbformat": 4,
 "nbformat_minor": 5
}
